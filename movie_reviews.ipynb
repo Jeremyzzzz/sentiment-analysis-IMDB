{
 "cells": [
  {
   "cell_type": "markdown",
   "metadata": {
    "cell_id": "00000-1e9de8cf-6422-4e51-9844-26a39a3cb379",
    "deepnote_cell_type": "markdown",
    "output_cleared": false
   },
   "source": [
    "# Sentiment analysis on the IMDB dataset <a name=\"2\"></a>\n",
    "<hr>\n",
    "\n",
    "\n",
    "### CountVectorizer with Logistic Regression "
   ]
  },
  {
   "cell_type": "code",
   "execution_count": 91,
   "metadata": {
    "cell_id": "00002-840a3dd0-53bb-4cff-9a18-b7378b712471",
    "deepnote_cell_type": "code",
    "execution_millis": 0,
    "execution_start": 1605987201429,
    "output_cleared": false,
    "source_hash": "7a142eff"
   },
   "outputs": [],
   "source": [
    "# Import libraries\n",
    "import re\n",
    "import sys\n",
    "from hashlib import sha1\n",
    "\n",
    "import matplotlib.pyplot as plt\n",
    "import numpy as np\n",
    "import pandas as pd\n",
    "\n",
    "from sklearn.dummy import DummyClassifier\n",
    "from sklearn.feature_extraction.text import CountVectorizer\n",
    "from sklearn.linear_model import LogisticRegression\n",
    "\n",
    "# train test split and cross validation\n",
    "from sklearn.model_selection import (\n",
    "    GridSearchCV,\n",
    "    RandomizedSearchCV,\n",
    "    cross_validate,\n",
    "    train_test_split,\n",
    ")\n",
    "from sklearn.naive_bayes import MultinomialNB\n",
    "from sklearn.pipeline import Pipeline, make_pipeline\n",
    "from sklearn.svm import SVC\n",
    "from sklearn.tree import DecisionTreeClassifier\n",
    "\n",
    "from sklearn.metrics import (\n",
    "    plot_confusion_matrix,\n",
    "    plot_precision_recall_curve,\n",
    "    plot_roc_curve,\n",
    "    confusion_matrix,\n",
    "    precision_score,\n",
    "    recall_score,\n",
    ")"
   ]
  },
  {
   "cell_type": "markdown",
   "metadata": {
    "cell_id": "00003-6af03030-504c-47b8-94c7-5f9d051a5f91",
    "deepnote_cell_type": "markdown",
    "tags": []
   },
   "source": [
    "### Classify the reviews to two categroies: Positive and Negative -> Binary Classification"
   ]
  },
  {
   "cell_type": "code",
   "execution_count": 95,
   "metadata": {
    "cell_id": "00035-67667557-657a-4478-9729-909361c38756",
    "deepnote_cell_type": "code",
    "execution_millis": 1203,
    "execution_start": 1605988183013,
    "nbgrader": {
     "grade": true,
     "grade_id": "cell-13d9bdc07140534d",
     "locked": false,
     "points": 0,
     "schema_version": 3,
     "solution": true,
     "task": false
    },
    "output_cleared": false,
    "source_hash": "c49101d9"
   },
   "outputs": [],
   "source": [
    "imdb_df = pd.read_csv(\"imdb_master.csv\", encoding=\"ISO-8859-1\", index_col=\"Unnamed: 0\")\n",
    "imdb_df = imdb_df.query('label == \"neg\" | label == \"pos\"')\n",
    "train_df = imdb_df.query('type == \"train\"')\n",
    "test_df = imdb_df.query('type == \"test\"')"
   ]
  },
  {
   "cell_type": "code",
   "execution_count": 96,
   "metadata": {
    "cell_id": "00037-9ecc2ba5-b0cd-42b5-92a0-18baba2e7714",
    "deepnote_cell_type": "code",
    "execution_millis": 2,
    "execution_start": 1605988193728,
    "nbgrader": {
     "grade": true,
     "grade_id": "cell-af9ebf01a716d388",
     "locked": false,
     "points": 0,
     "schema_version": 3,
     "solution": true,
     "task": false
    },
    "output_cleared": false,
    "source_hash": "f3bb7444"
   },
   "outputs": [],
   "source": [
    "X_train, y_train = train_df[\"review\"], train_df[\"label\"]\n",
    "X_test, y_test = test_df[\"review\"], test_df[\"label\"]"
   ]
  },
  {
   "cell_type": "code",
   "execution_count": 97,
   "metadata": {
    "cell_id": "00039-2e6f7e13-6aca-4c43-9cd4-a9bea02ce743",
    "deepnote_cell_type": "code",
    "execution_millis": 7,
    "execution_start": 1605988193997,
    "output_cleared": false,
    "source_hash": "de2f0d5e"
   },
   "outputs": [],
   "source": [
    "train_pos = train_df.query('label == \"pos\"')\n",
    "train_neg = train_df.query('label == \"neg\"')"
   ]
  },
  {
   "cell_type": "code",
   "execution_count": 98,
   "metadata": {},
   "outputs": [],
   "source": [
    "test_pos = test_df.query('label == \"pos\"')\n",
    "test_neg = test_df.query('label == \"neg\"')"
   ]
  },
  {
   "cell_type": "code",
   "execution_count": 99,
   "metadata": {},
   "outputs": [],
   "source": [
    "y_train = y_train.replace([\"neg\", \"pos\"], [0, 1])\n",
    "y_test = y_test.replace([\"neg\", \"pos\"], [0, 1])"
   ]
  },
  {
   "cell_type": "markdown",
   "metadata": {
    "cell_id": "00007-0857c128-010d-485b-a949-7c3422590184",
    "deepnote_cell_type": "markdown",
    "tags": []
   },
   "source": [
    "### EDA\n",
    "<hr>"
   ]
  },
  {
   "cell_type": "code",
   "execution_count": 100,
   "metadata": {
    "cell_id": "00008-a9c96a55-f04e-426c-b3b5-91d6bc43c152",
    "deepnote_cell_type": "code",
    "tags": []
   },
   "outputs": [
    {
     "name": "stdout",
     "output_type": "stream",
     "text": [
      "Training set has 12500 positive reviews\n",
      "Training set has 12500 negative reviews\n"
     ]
    }
   ],
   "source": [
    "print(f\"Training set has {train_pos.shape[0]} positive reviews\")\n",
    "print(f\"Training set has {train_neg.shape[0]} negative reviews\")"
   ]
  },
  {
   "cell_type": "code",
   "execution_count": 101,
   "metadata": {
    "cell_id": "00009-15c0ad16-5164-4fe5-93cf-4dbd8201d2f2",
    "deepnote_cell_type": "code",
    "tags": []
   },
   "outputs": [
    {
     "name": "stdout",
     "output_type": "stream",
     "text": [
      "Test set has 12500 positive reviews\n",
      "Test set has 12500 negative reviews\n"
     ]
    }
   ],
   "source": [
    "print(f\"Test set has {test_pos.shape[0]} positive reviews\")\n",
    "print(f\"Test set has {test_neg.shape[0]} negative reviews\")"
   ]
  },
  {
   "cell_type": "code",
   "execution_count": 102,
   "metadata": {
    "cell_id": "00007-2489cf24-40ac-4261-9a47-cd2557a65c4b",
    "deepnote_cell_type": "code",
    "execution_millis": 309,
    "execution_start": 1605988620544,
    "output_cleared": false,
    "source_hash": "99d3dbc6",
    "tags": []
   },
   "outputs": [
    {
     "data": {
      "text/plain": [
       "Text(0.5, 1.0, 'Positive reviews length')"
      ]
     },
     "execution_count": 102,
     "metadata": {},
     "output_type": "execute_result"
    },
    {
     "data": {
      "image/png": "[encoded data removed]",
      "text/plain": [
       "<Figure size 432x288 with 1 Axes>"
      ]
     },
     "metadata": {
      "needs_background": "light"
     },
     "output_type": "display_data"
    }
   ],
   "source": [
    "pos_length = train_pos['review'].str.len().plot()\n",
    "plt.title(\"Positive reviews length\")"
   ]
  },
  {
   "cell_type": "code",
   "execution_count": 103,
   "metadata": {
    "cell_id": "00008-6cdc7b9d-5cfa-456b-a13e-e69854e9a2b0",
    "deepnote_cell_type": "code",
    "execution_millis": 105,
    "execution_start": 1605988639729,
    "output_cleared": false,
    "source_hash": "7c625ab3",
    "tags": []
   },
   "outputs": [
    {
     "data": {
      "text/plain": [
       "Text(0.5, 1.0, 'Negative reviews length')"
      ]
     },
     "execution_count": 103,
     "metadata": {},
     "output_type": "execute_result"
    },
    {
     "data": {
      "image/png": "[encoded data removed]",
      "text/plain": [
       "<Figure size 432x288 with 1 Axes>"
      ]
     },
     "metadata": {
      "needs_background": "light"
     },
     "output_type": "display_data"
    }
   ],
   "source": [
    "pos_length = train_neg['review'].str.len().plot()\n",
    "plt.title(\"Negative reviews length\")"
   ]
  },
  {
   "cell_type": "code",
   "execution_count": 104,
   "metadata": {
    "cell_id": "00007-c965faac-ee4d-41dd-b5cb-3af7e7a63580",
    "deepnote_cell_type": "code",
    "execution_millis": 4,
    "execution_start": 1605988644042,
    "output_cleared": false,
    "source_hash": "78e9fb96",
    "tags": []
   },
   "outputs": [
    {
     "name": "stdout",
     "output_type": "stream",
     "text": [
      "The average length of positive reviews is 1347.42648\n",
      "The average length of negative reviews is 1303.19936\n"
     ]
    }
   ],
   "source": [
    "print(f\"The average length of positive reviews is {train_pos['review'].str.len().mean()}\")\n",
    "print(f\"The average length of negative reviews is {train_neg['review'].str.len().mean()}\")"
   ]
  },
  {
   "cell_type": "markdown",
   "metadata": {
    "cell_id": "00041-3cc510f7-5ec0-4cd5-883a-5998e94b7140",
    "deepnote_cell_type": "markdown",
    "output_cleared": false
   },
   "source": [
    "Negative reviews seem a bit shorter on average compared to the positive reviews. But the histograms showing distribution of lengths do not look much different. "
   ]
  },
  {
   "cell_type": "markdown",
   "metadata": {
    "cell_id": "00042-36592a24-fafa-45cc-8593-fba810a21a41",
    "deepnote_cell_type": "markdown",
    "output_cleared": false
   },
   "source": [
    "## Model building and hyperparameter optimization\n",
    "<hr>\n",
    "\n",
    "Explore a number of models on the dataset and carry out hyperparameter optimization for the logistic regression model. \n",
    "Will be using a `store_cross_val_results` function to keep results organized.  "
   ]
  },
  {
   "cell_type": "code",
   "execution_count": 105,
   "metadata": {
    "cell_id": "00043-664fc6c7-358f-4664-a49b-a80309c1cc01",
    "deepnote_cell_type": "code",
    "execution_start": 1605987208450,
    "output_cleared": false,
    "source_hash": "ff718f1e"
   },
   "outputs": [],
   "source": [
    "def store_cross_val_results(model_name, scores, results_dict):\n",
    "    \"\"\"\n",
    "    Stores mean scores from cross_validate in results_dict for\n",
    "    the given model model_name.\n",
    "\n",
    "    Parameters\n",
    "    ----------\n",
    "    model_name :\n",
    "        scikit-learn classification model\n",
    "    scores : dict\n",
    "        object return by `cross_validate`\n",
    "    results_dict: dict\n",
    "        dictionary to store results\n",
    "\n",
    "    Returns\n",
    "    ----------\n",
    "        None\n",
    "\n",
    "    \"\"\"\n",
    "    results_dict[model_name] = {\n",
    "        \"mean_train_accuracy\": \"{:0.4f}\".format(np.mean(scores[\"train_score\"])),\n",
    "        \"mean_valid_accuracy\": \"{:0.4f}\".format(np.mean(scores[\"test_score\"])),\n",
    "        \"mean_fit_time (s)\": \"{:0.4f}\".format(np.mean(scores[\"fit_time\"])),\n",
    "        \"mean_score_time (s)\": \"{:0.4f}\".format(np.mean(scores[\"score_time\"])),\n",
    "        \"std_train_score\": \"{:0.4f}\".format(scores[\"train_score\"].std()),\n",
    "        \"std_valid_score\": \"{:0.4f}\".format(scores[\"test_score\"].std()),\n",
    "    }"
   ]
  },
  {
   "cell_type": "markdown",
   "metadata": {
    "cell_id": "00044-04d53d89-c917-48df-ae0e-dfb1c6a50dcb",
    "deepnote_cell_type": "markdown",
    "output_cleared": false
   },
   "source": [
    "### DummyClassifier (Baseline Model)"
   ]
  },
  {
   "cell_type": "code",
   "execution_count": 106,
   "metadata": {
    "cell_id": "00046-b39d1d25-ad55-46e8-b6e7-450a8e559c4c",
    "deepnote_cell_type": "code",
    "execution_millis": 1251,
    "execution_start": 1605987208450,
    "output_cleared": false,
    "source_hash": "3bfbe23c"
   },
   "outputs": [
    {
     "data": {
      "text/html": [
       "<div>\n",
       "<style scoped>\n",
       "    .dataframe tbody tr th:only-of-type {\n",
       "        vertical-align: middle;\n",
       "    }\n",
       "\n",
       "    .dataframe tbody tr th {\n",
       "        vertical-align: top;\n",
       "    }\n",
       "\n",
       "    .dataframe thead th {\n",
       "        text-align: right;\n",
       "    }\n",
       "</style>\n",
       "<table border=\"1\" class=\"dataframe\">\n",
       "  <thead>\n",
       "    <tr style=\"text-align: right;\">\n",
       "      <th></th>\n",
       "      <th>mean_fit_time (s)</th>\n",
       "      <th>mean_score_time (s)</th>\n",
       "      <th>mean_train_accuracy</th>\n",
       "      <th>mean_valid_accuracy</th>\n",
       "      <th>std_train_score</th>\n",
       "      <th>std_valid_score</th>\n",
       "    </tr>\n",
       "  </thead>\n",
       "  <tbody>\n",
       "    <tr>\n",
       "      <th>Dummy</th>\n",
       "      <td>0.0041</td>\n",
       "      <td>0.0010</td>\n",
       "      <td>0.5010</td>\n",
       "      <td>0.5017</td>\n",
       "      <td>0.0036</td>\n",
       "      <td>0.0025</td>\n",
       "    </tr>\n",
       "  </tbody>\n",
       "</table>\n",
       "</div>"
      ],
      "text/plain": [
       "      mean_fit_time (s) mean_score_time (s) mean_train_accuracy  \\\n",
       "Dummy            0.0041              0.0010              0.5010   \n",
       "\n",
       "      mean_valid_accuracy std_train_score std_valid_score  \n",
       "Dummy              0.5017          0.0036          0.0025  "
      ]
     },
     "execution_count": 106,
     "metadata": {},
     "output_type": "execute_result"
    }
   ],
   "source": [
    "results_dict = {}\n",
    "dummy = DummyClassifier()\n",
    "scores = cross_validate(dummy, X_train, y_train, n_jobs=-1, return_train_score=True)\n",
    "store_cross_val_results(\"Dummy\", scores, results_dict)\n",
    "pd.DataFrame(results_dict).T"
   ]
  },
  {
   "cell_type": "markdown",
   "metadata": {
    "cell_id": "00047-0cfd0059-88f7-4718-a156-168a71a5c447",
    "deepnote_cell_type": "markdown",
    "output_cleared": false
   },
   "source": [
    "### CountVectorizer with different models"
   ]
  },
  {
   "cell_type": "code",
   "execution_count": 27,
   "metadata": {
    "cell_id": "00048-cd6937fa-5129-42ef-87ad-5b08a57a7521",
    "deepnote_cell_type": "code",
    "execution_millis": 0,
    "execution_start": 1605989575629,
    "output_cleared": false,
    "source_hash": "1858ffa8"
   },
   "outputs": [],
   "source": [
    "from sklearn.ensemble import RandomForestClassifier\n",
    "models = {\n",
    "    \"Decision Tree\": DecisionTreeClassifier(),\n",
    "    \"RBF SVM\": SVC(),\n",
    "    \"Naive Bayes\": MultinomialNB(),\n",
    "    \"Logistic Regression\": LogisticRegression(max_iter=2000),\n",
    "    \"Random Forest\": RandomForestClassifier(n_estimators = 100) \n",
    "}"
   ]
  },
  {
   "cell_type": "code",
   "execution_count": 38,
   "metadata": {
    "cell_id": "00049-daeeecb9-20e1-4396-a7cc-ce9e2e47c309",
    "deepnote_cell_type": "code",
    "execution_millis": 1813687,
    "execution_start": 1605989576740,
    "output_cleared": false,
    "source_hash": "b4b0c7fb"
   },
   "outputs": [
    {
     "data": {
      "text/html": [
       "<div>\n",
       "<style scoped>\n",
       "    .dataframe tbody tr th:only-of-type {\n",
       "        vertical-align: middle;\n",
       "    }\n",
       "\n",
       "    .dataframe tbody tr th {\n",
       "        vertical-align: top;\n",
       "    }\n",
       "\n",
       "    .dataframe thead th {\n",
       "        text-align: right;\n",
       "    }\n",
       "</style>\n",
       "<table border=\"1\" class=\"dataframe\">\n",
       "  <thead>\n",
       "    <tr style=\"text-align: right;\">\n",
       "      <th></th>\n",
       "      <th>mean_train_accuracy</th>\n",
       "      <th>mean_valid_accuracy</th>\n",
       "      <th>mean_fit_time (s)</th>\n",
       "      <th>mean_score_time (s)</th>\n",
       "      <th>std_train_score</th>\n",
       "      <th>std_valid_score</th>\n",
       "    </tr>\n",
       "  </thead>\n",
       "  <tbody>\n",
       "    <tr>\n",
       "      <th>Dummy</th>\n",
       "      <td>0.5003</td>\n",
       "      <td>0.5020</td>\n",
       "      <td>0.0112</td>\n",
       "      <td>0.0092</td>\n",
       "      <td>0.0031</td>\n",
       "      <td>0.0053</td>\n",
       "    </tr>\n",
       "    <tr>\n",
       "      <th>Decision Tree</th>\n",
       "      <td>1.0000</td>\n",
       "      <td>0.7080</td>\n",
       "      <td>24.2659</td>\n",
       "      <td>0.7921</td>\n",
       "      <td>0.0000</td>\n",
       "      <td>0.0051</td>\n",
       "    </tr>\n",
       "    <tr>\n",
       "      <th>RBF SVM</th>\n",
       "      <td>0.9166</td>\n",
       "      <td>0.8509</td>\n",
       "      <td>492.4621</td>\n",
       "      <td>101.2514</td>\n",
       "      <td>0.0013</td>\n",
       "      <td>0.0036</td>\n",
       "    </tr>\n",
       "    <tr>\n",
       "      <th>Naive Bayes</th>\n",
       "      <td>0.9091</td>\n",
       "      <td>0.7788</td>\n",
       "      <td>2.9081</td>\n",
       "      <td>0.7770</td>\n",
       "      <td>0.0045</td>\n",
       "      <td>0.0113</td>\n",
       "    </tr>\n",
       "    <tr>\n",
       "      <th>Logistic Regression</th>\n",
       "      <td>0.9991</td>\n",
       "      <td>0.8406</td>\n",
       "      <td>24.9361</td>\n",
       "      <td>0.9380</td>\n",
       "      <td>0.0001</td>\n",
       "      <td>0.0119</td>\n",
       "    </tr>\n",
       "    <tr>\n",
       "      <th>Random Forest</th>\n",
       "      <td>1.0000</td>\n",
       "      <td>0.8401</td>\n",
       "      <td>64.2636</td>\n",
       "      <td>1.5807</td>\n",
       "      <td>0.0000</td>\n",
       "      <td>0.0044</td>\n",
       "    </tr>\n",
       "  </tbody>\n",
       "</table>\n",
       "</div>"
      ],
      "text/plain": [
       "                    mean_train_accuracy mean_valid_accuracy mean_fit_time (s)  \\\n",
       "Dummy                            0.5003              0.5020            0.0112   \n",
       "Decision Tree                    1.0000              0.7080           24.2659   \n",
       "RBF SVM                          0.9166              0.8509          492.4621   \n",
       "Naive Bayes                      0.9091              0.7788            2.9081   \n",
       "Logistic Regression              0.9991              0.8406           24.9361   \n",
       "Random Forest                    1.0000              0.8401           64.2636   \n",
       "\n",
       "                    mean_score_time (s) std_train_score std_valid_score  \n",
       "Dummy                            0.0092          0.0031          0.0053  \n",
       "Decision Tree                    0.7921          0.0000          0.0051  \n",
       "RBF SVM                        101.2514          0.0013          0.0036  \n",
       "Naive Bayes                      0.7770          0.0045          0.0113  \n",
       "Logistic Regression              0.9380          0.0001          0.0119  \n",
       "Random Forest                    1.5807          0.0000          0.0044  "
      ]
     },
     "execution_count": 38,
     "metadata": {},
     "output_type": "execute_result"
    }
   ],
   "source": [
    "for model_name, model in models.items():\n",
    "    pipe = make_pipeline(CountVectorizer(), model)\n",
    "    scores = cross_validate(pipe, X_train, y_train, return_train_score=True, n_jobs=-1)\n",
    "    store_cross_val_results(model_name, scores, results_dict)\n",
    "\n",
    "pd.DataFrame(results_dict).T"
   ]
  },
  {
   "cell_type": "markdown",
   "metadata": {
    "cell_id": "00050-0d4847ac-3425-4587-8884-6263c81b4748",
    "deepnote_cell_type": "markdown",
    "output_cleared": false
   },
   "source": [
    "1. All models are performing better than the DummyClassifier. \n",
    "\n",
    "2. Decision tree and Naive Bayes seem to be suffering from overfitting. \n",
    "\n",
    "3. The RandomForest model is fitting alright but it's the slowest."
   ]
  },
  {
   "cell_type": "markdown",
   "metadata": {
    "cell_id": "00051-097b9b05-30e7-4f1d-8fbb-13376768320f",
    "deepnote_cell_type": "markdown",
    "output_cleared": false
   },
   "source": [
    "## Hyperparameter optimization and BagOfWords\n",
    "<hr>"
   ]
  },
  {
   "cell_type": "code",
   "execution_count": 28,
   "metadata": {
    "cell_id": "00052-f74b0707-1cb7-41c0-8158-644719dbf23f",
    "deepnote_cell_type": "code",
    "execution_millis": 89966,
    "execution_start": 1605991418423,
    "output_cleared": false,
    "source_hash": "1682887a"
   },
   "outputs": [
    {
     "name": "stdout",
     "output_type": "stream",
     "text": [
      "Vocab size:  75532\n"
     ]
    }
   ],
   "source": [
    "pipe_lr = make_pipeline(CountVectorizer(), LogisticRegression(max_iter=1000))\n",
    "pipe_lr.fit(X_train, y_train)\n",
    "vocab_size = len(pipe_lr[\"countvectorizer\"].get_feature_names())  # get the vocab_size for\n",
    "print(\"Vocab size: \", vocab_size)"
   ]
  },
  {
   "cell_type": "code",
   "execution_count": 29,
   "metadata": {
    "cell_id": "00053-c8f8948a-a6f9-410c-9dd8-2e8b331a9d82",
    "deepnote_cell_type": "code",
    "execution_millis": 0,
    "execution_start": 1605991508390,
    "output_cleared": false,
    "source_hash": "9210e58e"
   },
   "outputs": [],
   "source": [
    "from scipy.stats import lognorm, loguniform, randint\n",
    "\n",
    "# pipe = make_pipeline(CountVectorizer(), LogisticRegression(max_iter=1000))\n",
    "param_grid = {\n",
    "    \"logisticregression__C\": loguniform(1e-3, 1e3),\n",
    "    \"countvectorizer__max_features\": randint(100, vocab_size),\n",
    "}"
   ]
  },
  {
   "cell_type": "code",
   "execution_count": 31,
   "metadata": {
    "cell_id": "00054-aac8f56c-9398-4b69-af79-2f5fb19f00e0",
    "deepnote_cell_type": "code",
    "execution_millis": 2258190,
    "execution_start": 1605991508390,
    "output_cleared": false,
    "source_hash": "5b286c4e"
   },
   "outputs": [
    {
     "name": "stdout",
     "output_type": "stream",
     "text": [
      "Fitting 5 folds for each of 30 candidates, totalling 150 fits\n"
     ]
    },
    {
     "name": "stderr",
     "output_type": "stream",
     "text": [
      "[Parallel(n_jobs=-1)]: Using backend LokyBackend with 16 concurrent workers.\n",
      "[Parallel(n_jobs=-1)]: Done  18 tasks      | elapsed:  2.9min\n",
      "[Parallel(n_jobs=-1)]: Done 150 out of 150 | elapsed: 13.1min finished\n"
     ]
    },
    {
     "data": {
      "text/plain": [
       "RandomizedSearchCV(estimator=Pipeline(steps=[('countvectorizer',\n",
       "                                              CountVectorizer()),\n",
       "                                             ('logisticregression',\n",
       "                                              LogisticRegression(max_iter=1000))]),\n",
       "                   n_iter=30, n_jobs=-1,\n",
       "                   param_distributions={'countvectorizer__max_features': <scipy.stats._distn_infrastructure.rv_frozen object at 0x7fa3f18697d0>,\n",
       "                                        'logisticregression__C': <scipy.stats._distn_infrastructure.rv_frozen object at 0x7fa3f1869290>},\n",
       "                   random_state=123, return_train_score=True, verbose=1)"
      ]
     },
     "execution_count": 31,
     "metadata": {},
     "output_type": "execute_result"
    }
   ],
   "source": [
    "random_search = RandomizedSearchCV(\n",
    "    pipe_lr,\n",
    "    param_grid,\n",
    "    n_iter=30,\n",
    "    verbose=1,\n",
    "    n_jobs=-1,\n",
    "    random_state=123,\n",
    "    return_train_score=True,\n",
    ")\n",
    "\n",
    "random_search.fit(X_train, y_train)"
   ]
  },
  {
   "cell_type": "code",
   "execution_count": 32,
   "metadata": {
    "cell_id": "00055-b60044c0-d278-42a5-ba8c-a8d27d8644b6",
    "deepnote_cell_type": "code",
    "output_cleared": false,
    "source_hash": "6bb6963e"
   },
   "outputs": [
    {
     "name": "stdout",
     "output_type": "stream",
     "text": [
      "Best hyperparameter values:  {'countvectorizer__max_features': 73621, 'logisticregression__C': 0.012443724365791027}\n",
      "Best score: 0.865\n"
     ]
    },
    {
     "data": {
      "text/html": [
       "<div>\n",
       "<style scoped>\n",
       "    .dataframe tbody tr th:only-of-type {\n",
       "        vertical-align: middle;\n",
       "    }\n",
       "\n",
       "    .dataframe tbody tr th {\n",
       "        vertical-align: top;\n",
       "    }\n",
       "\n",
       "    .dataframe thead th {\n",
       "        text-align: right;\n",
       "    }\n",
       "</style>\n",
       "<table border=\"1\" class=\"dataframe\">\n",
       "  <thead>\n",
       "    <tr style=\"text-align: right;\">\n",
       "      <th></th>\n",
       "      <th>mean_train_score</th>\n",
       "      <th>mean_test_score</th>\n",
       "      <th>param_logisticregression__C</th>\n",
       "      <th>param_countvectorizer__max_features</th>\n",
       "      <th>mean_fit_time</th>\n",
       "    </tr>\n",
       "    <tr>\n",
       "      <th>rank_test_score</th>\n",
       "      <th></th>\n",
       "      <th></th>\n",
       "      <th></th>\n",
       "      <th></th>\n",
       "      <th></th>\n",
       "    </tr>\n",
       "  </thead>\n",
       "  <tbody>\n",
       "    <tr>\n",
       "      <th>1</th>\n",
       "      <td>0.93121</td>\n",
       "      <td>0.86512</td>\n",
       "      <td>0.0124437</td>\n",
       "      <td>73621</td>\n",
       "      <td>31.352649</td>\n",
       "    </tr>\n",
       "    <tr>\n",
       "      <th>2</th>\n",
       "      <td>0.91443</td>\n",
       "      <td>0.86392</td>\n",
       "      <td>0.00691361</td>\n",
       "      <td>23266</td>\n",
       "      <td>23.571687</td>\n",
       "    </tr>\n",
       "    <tr>\n",
       "      <th>3</th>\n",
       "      <td>0.95361</td>\n",
       "      <td>0.86276</td>\n",
       "      <td>0.0318223</td>\n",
       "      <td>50202</td>\n",
       "      <td>32.496818</td>\n",
       "    </tr>\n",
       "    <tr>\n",
       "      <th>4</th>\n",
       "      <td>0.95933</td>\n",
       "      <td>0.86156</td>\n",
       "      <td>0.0520998</td>\n",
       "      <td>15825</td>\n",
       "      <td>49.875292</td>\n",
       "    </tr>\n",
       "    <tr>\n",
       "      <th>5</th>\n",
       "      <td>0.96810</td>\n",
       "      <td>0.86100</td>\n",
       "      <td>0.0578475</td>\n",
       "      <td>67974</td>\n",
       "      <td>37.127191</td>\n",
       "    </tr>\n",
       "    <tr>\n",
       "      <th>6</th>\n",
       "      <td>0.97625</td>\n",
       "      <td>0.85812</td>\n",
       "      <td>0.0880857</td>\n",
       "      <td>65747</td>\n",
       "      <td>40.675083</td>\n",
       "    </tr>\n",
       "    <tr>\n",
       "      <th>7</th>\n",
       "      <td>0.89711</td>\n",
       "      <td>0.85748</td>\n",
       "      <td>0.00356968</td>\n",
       "      <td>20455</td>\n",
       "      <td>17.577064</td>\n",
       "    </tr>\n",
       "    <tr>\n",
       "      <th>8</th>\n",
       "      <td>0.89462</td>\n",
       "      <td>0.85672</td>\n",
       "      <td>0.0031795</td>\n",
       "      <td>26726</td>\n",
       "      <td>22.792857</td>\n",
       "    </tr>\n",
       "    <tr>\n",
       "      <th>9</th>\n",
       "      <td>0.98120</td>\n",
       "      <td>0.85556</td>\n",
       "      <td>0.114569</td>\n",
       "      <td>71300</td>\n",
       "      <td>42.819784</td>\n",
       "    </tr>\n",
       "    <tr>\n",
       "      <th>10</th>\n",
       "      <td>0.88583</td>\n",
       "      <td>0.85336</td>\n",
       "      <td>0.0022807</td>\n",
       "      <td>35762</td>\n",
       "      <td>19.184309</td>\n",
       "    </tr>\n",
       "    <tr>\n",
       "      <th>11</th>\n",
       "      <td>0.97888</td>\n",
       "      <td>0.85228</td>\n",
       "      <td>0.174908</td>\n",
       "      <td>11994</td>\n",
       "      <td>39.700424</td>\n",
       "    </tr>\n",
       "    <tr>\n",
       "      <th>12</th>\n",
       "      <td>0.94420</td>\n",
       "      <td>0.85056</td>\n",
       "      <td>0.31861</td>\n",
       "      <td>3352</td>\n",
       "      <td>42.073599</td>\n",
       "    </tr>\n",
       "    <tr>\n",
       "      <th>13</th>\n",
       "      <td>0.87416</td>\n",
       "      <td>0.84584</td>\n",
       "      <td>0.00147195</td>\n",
       "      <td>68260</td>\n",
       "      <td>28.381682</td>\n",
       "    </tr>\n",
       "    <tr>\n",
       "      <th>14</th>\n",
       "      <td>0.99896</td>\n",
       "      <td>0.84120</td>\n",
       "      <td>0.916454</td>\n",
       "      <td>74654</td>\n",
       "      <td>94.051033</td>\n",
       "    </tr>\n",
       "    <tr>\n",
       "      <th>15</th>\n",
       "      <td>0.99838</td>\n",
       "      <td>0.83972</td>\n",
       "      <td>0.896414</td>\n",
       "      <td>23828</td>\n",
       "      <td>69.134057</td>\n",
       "    </tr>\n",
       "    <tr>\n",
       "      <th>16</th>\n",
       "      <td>0.99948</td>\n",
       "      <td>0.83936</td>\n",
       "      <td>1.30891</td>\n",
       "      <td>74523</td>\n",
       "      <td>92.407534</td>\n",
       "    </tr>\n",
       "    <tr>\n",
       "      <th>17</th>\n",
       "      <td>0.99916</td>\n",
       "      <td>0.83844</td>\n",
       "      <td>1.17647</td>\n",
       "      <td>30978</td>\n",
       "      <td>81.717833</td>\n",
       "    </tr>\n",
       "    <tr>\n",
       "      <th>18</th>\n",
       "      <td>0.99414</td>\n",
       "      <td>0.83636</td>\n",
       "      <td>0.939617</td>\n",
       "      <td>8847</td>\n",
       "      <td>70.280413</td>\n",
       "    </tr>\n",
       "    <tr>\n",
       "      <th>19</th>\n",
       "      <td>1.00000</td>\n",
       "      <td>0.83120</td>\n",
       "      <td>6.40333</td>\n",
       "      <td>30355</td>\n",
       "      <td>85.063307</td>\n",
       "    </tr>\n",
       "    <tr>\n",
       "      <th>20</th>\n",
       "      <td>0.99992</td>\n",
       "      <td>0.83048</td>\n",
       "      <td>3.65944</td>\n",
       "      <td>15044</td>\n",
       "      <td>55.802068</td>\n",
       "    </tr>\n",
       "    <tr>\n",
       "      <th>21</th>\n",
       "      <td>1.00000</td>\n",
       "      <td>0.83032</td>\n",
       "      <td>13.9736</td>\n",
       "      <td>61504</td>\n",
       "      <td>130.239483</td>\n",
       "    </tr>\n",
       "    <tr>\n",
       "      <th>22</th>\n",
       "      <td>0.99999</td>\n",
       "      <td>0.82908</td>\n",
       "      <td>5.54265</td>\n",
       "      <td>17873</td>\n",
       "      <td>83.181972</td>\n",
       "    </tr>\n",
       "    <tr>\n",
       "      <th>23</th>\n",
       "      <td>1.00000</td>\n",
       "      <td>0.82780</td>\n",
       "      <td>32.3041</td>\n",
       "      <td>43064</td>\n",
       "      <td>74.379668</td>\n",
       "    </tr>\n",
       "    <tr>\n",
       "      <th>24</th>\n",
       "      <td>1.00000</td>\n",
       "      <td>0.82776</td>\n",
       "      <td>12.8522</td>\n",
       "      <td>22341</td>\n",
       "      <td>77.735604</td>\n",
       "    </tr>\n",
       "    <tr>\n",
       "      <th>25</th>\n",
       "      <td>1.00000</td>\n",
       "      <td>0.82728</td>\n",
       "      <td>47.8814</td>\n",
       "      <td>46303</td>\n",
       "      <td>103.791003</td>\n",
       "    </tr>\n",
       "    <tr>\n",
       "      <th>26</th>\n",
       "      <td>1.00000</td>\n",
       "      <td>0.82560</td>\n",
       "      <td>229.264</td>\n",
       "      <td>53759</td>\n",
       "      <td>115.176807</td>\n",
       "    </tr>\n",
       "    <tr>\n",
       "      <th>27</th>\n",
       "      <td>1.00000</td>\n",
       "      <td>0.82384</td>\n",
       "      <td>20.7402</td>\n",
       "      <td>15477</td>\n",
       "      <td>91.838029</td>\n",
       "    </tr>\n",
       "    <tr>\n",
       "      <th>28</th>\n",
       "      <td>1.00000</td>\n",
       "      <td>0.82176</td>\n",
       "      <td>218.371</td>\n",
       "      <td>23112</td>\n",
       "      <td>88.083655</td>\n",
       "    </tr>\n",
       "    <tr>\n",
       "      <th>29</th>\n",
       "      <td>0.95990</td>\n",
       "      <td>0.81964</td>\n",
       "      <td>12.577</td>\n",
       "      <td>3416</td>\n",
       "      <td>45.271213</td>\n",
       "    </tr>\n",
       "    <tr>\n",
       "      <th>30</th>\n",
       "      <td>0.98128</td>\n",
       "      <td>0.81620</td>\n",
       "      <td>4.63597</td>\n",
       "      <td>4295</td>\n",
       "      <td>62.423118</td>\n",
       "    </tr>\n",
       "  </tbody>\n",
       "</table>\n",
       "</div>"
      ],
      "text/plain": [
       "                 mean_train_score  mean_test_score  \\\n",
       "rank_test_score                                      \n",
       "1                         0.93121          0.86512   \n",
       "2                         0.91443          0.86392   \n",
       "3                         0.95361          0.86276   \n",
       "4                         0.95933          0.86156   \n",
       "5                         0.96810          0.86100   \n",
       "6                         0.97625          0.85812   \n",
       "7                         0.89711          0.85748   \n",
       "8                         0.89462          0.85672   \n",
       "9                         0.98120          0.85556   \n",
       "10                        0.88583          0.85336   \n",
       "11                        0.97888          0.85228   \n",
       "12                        0.94420          0.85056   \n",
       "13                        0.87416          0.84584   \n",
       "14                        0.99896          0.84120   \n",
       "15                        0.99838          0.83972   \n",
       "16                        0.99948          0.83936   \n",
       "17                        0.99916          0.83844   \n",
       "18                        0.99414          0.83636   \n",
       "19                        1.00000          0.83120   \n",
       "20                        0.99992          0.83048   \n",
       "21                        1.00000          0.83032   \n",
       "22                        0.99999          0.82908   \n",
       "23                        1.00000          0.82780   \n",
       "24                        1.00000          0.82776   \n",
       "25                        1.00000          0.82728   \n",
       "26                        1.00000          0.82560   \n",
       "27                        1.00000          0.82384   \n",
       "28                        1.00000          0.82176   \n",
       "29                        0.95990          0.81964   \n",
       "30                        0.98128          0.81620   \n",
       "\n",
       "                param_logisticregression__C  \\\n",
       "rank_test_score                               \n",
       "1                                 0.0124437   \n",
       "2                                0.00691361   \n",
       "3                                 0.0318223   \n",
       "4                                 0.0520998   \n",
       "5                                 0.0578475   \n",
       "6                                 0.0880857   \n",
       "7                                0.00356968   \n",
       "8                                 0.0031795   \n",
       "9                                  0.114569   \n",
       "10                                0.0022807   \n",
       "11                                 0.174908   \n",
       "12                                  0.31861   \n",
       "13                               0.00147195   \n",
       "14                                 0.916454   \n",
       "15                                 0.896414   \n",
       "16                                  1.30891   \n",
       "17                                  1.17647   \n",
       "18                                 0.939617   \n",
       "19                                  6.40333   \n",
       "20                                  3.65944   \n",
       "21                                  13.9736   \n",
       "22                                  5.54265   \n",
       "23                                  32.3041   \n",
       "24                                  12.8522   \n",
       "25                                  47.8814   \n",
       "26                                  229.264   \n",
       "27                                  20.7402   \n",
       "28                                  218.371   \n",
       "29                                   12.577   \n",
       "30                                  4.63597   \n",
       "\n",
       "                param_countvectorizer__max_features  mean_fit_time  \n",
       "rank_test_score                                                     \n",
       "1                                             73621      31.352649  \n",
       "2                                             23266      23.571687  \n",
       "3                                             50202      32.496818  \n",
       "4                                             15825      49.875292  \n",
       "5                                             67974      37.127191  \n",
       "6                                             65747      40.675083  \n",
       "7                                             20455      17.577064  \n",
       "8                                             26726      22.792857  \n",
       "9                                             71300      42.819784  \n",
       "10                                            35762      19.184309  \n",
       "11                                            11994      39.700424  \n",
       "12                                             3352      42.073599  \n",
       "13                                            68260      28.381682  \n",
       "14                                            74654      94.051033  \n",
       "15                                            23828      69.134057  \n",
       "16                                            74523      92.407534  \n",
       "17                                            30978      81.717833  \n",
       "18                                             8847      70.280413  \n",
       "19                                            30355      85.063307  \n",
       "20                                            15044      55.802068  \n",
       "21                                            61504     130.239483  \n",
       "22                                            17873      83.181972  \n",
       "23                                            43064      74.379668  \n",
       "24                                            22341      77.735604  \n",
       "25                                            46303     103.791003  \n",
       "26                                            53759     115.176807  \n",
       "27                                            15477      91.838029  \n",
       "28                                            23112      88.083655  \n",
       "29                                             3416      45.271213  \n",
       "30                                             4295      62.423118  "
      ]
     },
     "execution_count": 32,
     "metadata": {},
     "output_type": "execute_result"
    }
   ],
   "source": [
    "print(\"Best hyperparameter values: \", random_search.best_params_)\n",
    "print(\"Best score: %0.3f\" % (random_search.best_score_))\n",
    "\n",
    "pd.DataFrame(random_search.cv_results_)[\n",
    "    [\n",
    "        \"mean_train_score\",\n",
    "        \"mean_test_score\",\n",
    "        \"param_logisticregression__C\",\n",
    "        \"param_countvectorizer__max_features\",\n",
    "        \"mean_fit_time\",\n",
    "        \"rank_test_score\",\n",
    "    ]\n",
    "].set_index(\"rank_test_score\").sort_index()"
   ]
  },
  {
   "cell_type": "markdown",
   "metadata": {
    "cell_id": "00056-a7ae77a1-e346-4faa-8634-7531b578770d",
    "deepnote_cell_type": "markdown",
    "output_cleared": false
   },
   "source": [
    "**solution_3_3_3**\n",
    "Yes, we are getting better validation scores with `C=0.008` and `max_features=4242`. "
   ]
  },
  {
   "cell_type": "markdown",
   "metadata": {
    "cell_id": "00057-a7b97b91-32b5-437e-9400-e7af66152ebb",
    "deepnote_cell_type": "markdown",
    "output_cleared": false
   },
   "source": [
    "## Model interpretation\n",
    "<hr>\n",
    "\n",
    "One of the primary advantage of linear models is their ability to interpret models in terms of important features. We'll explore the weights learned by logistic regression classifier. "
   ]
  },
  {
   "cell_type": "markdown",
   "metadata": {
    "cell_id": "00058-2abcbae3-0340-4fb9-9954-833c52d6b398",
    "deepnote_cell_type": "markdown",
    "output_cleared": false
   },
   "source": [
    "#### Get most informative words"
   ]
  },
  {
   "cell_type": "code",
   "execution_count": 33,
   "metadata": {
    "cell_id": "00059-9a0304b9-ae5e-4ff7-882d-b85cfce0a0d3",
    "deepnote_cell_type": "code",
    "output_cleared": false,
    "source_hash": "16f90b4d"
   },
   "outputs": [],
   "source": [
    "best_estimator = random_search.best_estimator_"
   ]
  },
  {
   "cell_type": "code",
   "execution_count": 34,
   "metadata": {
    "cell_id": "00060-beeb799d-2878-4914-a372-9f4163b86914",
    "deepnote_cell_type": "code",
    "output_cleared": false,
    "slideshow": {
     "slide_type": "slide"
    },
    "source_hash": "67a7e21"
   },
   "outputs": [
    {
     "data": {
      "text/html": [
       "<div>\n",
       "<style scoped>\n",
       "    .dataframe tbody tr th:only-of-type {\n",
       "        vertical-align: middle;\n",
       "    }\n",
       "\n",
       "    .dataframe tbody tr th {\n",
       "        vertical-align: top;\n",
       "    }\n",
       "\n",
       "    .dataframe thead th {\n",
       "        text-align: right;\n",
       "    }\n",
       "</style>\n",
       "<table border=\"1\" class=\"dataframe\">\n",
       "  <thead>\n",
       "    <tr style=\"text-align: right;\">\n",
       "      <th></th>\n",
       "      <th>Neg feats</th>\n",
       "      <th>Neg weights</th>\n",
       "      <th>Pos feats</th>\n",
       "      <th>Pos weights</th>\n",
       "    </tr>\n",
       "  </thead>\n",
       "  <tbody>\n",
       "    <tr>\n",
       "      <th>0</th>\n",
       "      <td>worst</td>\n",
       "      <td>-0.914930</td>\n",
       "      <td>simple</td>\n",
       "      <td>0.275346</td>\n",
       "    </tr>\n",
       "    <tr>\n",
       "      <th>1</th>\n",
       "      <td>waste</td>\n",
       "      <td>-0.739911</td>\n",
       "      <td>rare</td>\n",
       "      <td>0.276900</td>\n",
       "    </tr>\n",
       "    <tr>\n",
       "      <th>2</th>\n",
       "      <td>awful</td>\n",
       "      <td>-0.658785</td>\n",
       "      <td>surprised</td>\n",
       "      <td>0.287050</td>\n",
       "    </tr>\n",
       "    <tr>\n",
       "      <th>3</th>\n",
       "      <td>boring</td>\n",
       "      <td>-0.585968</td>\n",
       "      <td>fantastic</td>\n",
       "      <td>0.288787</td>\n",
       "    </tr>\n",
       "    <tr>\n",
       "      <th>4</th>\n",
       "      <td>poor</td>\n",
       "      <td>-0.491580</td>\n",
       "      <td>definitely</td>\n",
       "      <td>0.293063</td>\n",
       "    </tr>\n",
       "    <tr>\n",
       "      <th>5</th>\n",
       "      <td>poorly</td>\n",
       "      <td>-0.472264</td>\n",
       "      <td>enjoyable</td>\n",
       "      <td>0.308648</td>\n",
       "    </tr>\n",
       "    <tr>\n",
       "      <th>6</th>\n",
       "      <td>worse</td>\n",
       "      <td>-0.468771</td>\n",
       "      <td>brilliant</td>\n",
       "      <td>0.324491</td>\n",
       "    </tr>\n",
       "    <tr>\n",
       "      <th>7</th>\n",
       "      <td>terrible</td>\n",
       "      <td>-0.464762</td>\n",
       "      <td>fun</td>\n",
       "      <td>0.337348</td>\n",
       "    </tr>\n",
       "    <tr>\n",
       "      <th>8</th>\n",
       "      <td>bad</td>\n",
       "      <td>-0.463360</td>\n",
       "      <td>enjoyed</td>\n",
       "      <td>0.337920</td>\n",
       "    </tr>\n",
       "    <tr>\n",
       "      <th>9</th>\n",
       "      <td>horrible</td>\n",
       "      <td>-0.445930</td>\n",
       "      <td>highly</td>\n",
       "      <td>0.339187</td>\n",
       "    </tr>\n",
       "    <tr>\n",
       "      <th>10</th>\n",
       "      <td>dull</td>\n",
       "      <td>-0.435545</td>\n",
       "      <td>best</td>\n",
       "      <td>0.343645</td>\n",
       "    </tr>\n",
       "    <tr>\n",
       "      <th>11</th>\n",
       "      <td>disappointment</td>\n",
       "      <td>-0.420898</td>\n",
       "      <td>superb</td>\n",
       "      <td>0.363134</td>\n",
       "    </tr>\n",
       "    <tr>\n",
       "      <th>12</th>\n",
       "      <td>unfortunately</td>\n",
       "      <td>-0.412105</td>\n",
       "      <td>today</td>\n",
       "      <td>0.368038</td>\n",
       "    </tr>\n",
       "    <tr>\n",
       "      <th>13</th>\n",
       "      <td>annoying</td>\n",
       "      <td>-0.407723</td>\n",
       "      <td>favorite</td>\n",
       "      <td>0.379570</td>\n",
       "    </tr>\n",
       "    <tr>\n",
       "      <th>14</th>\n",
       "      <td>disappointing</td>\n",
       "      <td>-0.391935</td>\n",
       "      <td>loved</td>\n",
       "      <td>0.386547</td>\n",
       "    </tr>\n",
       "    <tr>\n",
       "      <th>15</th>\n",
       "      <td>ridiculous</td>\n",
       "      <td>-0.387345</td>\n",
       "      <td>amazing</td>\n",
       "      <td>0.416552</td>\n",
       "    </tr>\n",
       "    <tr>\n",
       "      <th>16</th>\n",
       "      <td>mess</td>\n",
       "      <td>-0.375267</td>\n",
       "      <td>great</td>\n",
       "      <td>0.433983</td>\n",
       "    </tr>\n",
       "    <tr>\n",
       "      <th>17</th>\n",
       "      <td>fails</td>\n",
       "      <td>-0.374599</td>\n",
       "      <td>wonderful</td>\n",
       "      <td>0.437432</td>\n",
       "    </tr>\n",
       "    <tr>\n",
       "      <th>18</th>\n",
       "      <td>avoid</td>\n",
       "      <td>-0.374341</td>\n",
       "      <td>perfect</td>\n",
       "      <td>0.480207</td>\n",
       "    </tr>\n",
       "    <tr>\n",
       "      <th>19</th>\n",
       "      <td>save</td>\n",
       "      <td>-0.372115</td>\n",
       "      <td>excellent</td>\n",
       "      <td>0.607129</td>\n",
       "    </tr>\n",
       "  </tbody>\n",
       "</table>\n",
       "</div>"
      ],
      "text/plain": [
       "         Neg feats  Neg weights   Pos feats  Pos weights\n",
       "0            worst    -0.914930      simple     0.275346\n",
       "1            waste    -0.739911        rare     0.276900\n",
       "2            awful    -0.658785   surprised     0.287050\n",
       "3           boring    -0.585968   fantastic     0.288787\n",
       "4             poor    -0.491580  definitely     0.293063\n",
       "5           poorly    -0.472264   enjoyable     0.308648\n",
       "6            worse    -0.468771   brilliant     0.324491\n",
       "7         terrible    -0.464762         fun     0.337348\n",
       "8              bad    -0.463360     enjoyed     0.337920\n",
       "9         horrible    -0.445930      highly     0.339187\n",
       "10            dull    -0.435545        best     0.343645\n",
       "11  disappointment    -0.420898      superb     0.363134\n",
       "12   unfortunately    -0.412105       today     0.368038\n",
       "13        annoying    -0.407723    favorite     0.379570\n",
       "14   disappointing    -0.391935       loved     0.386547\n",
       "15      ridiculous    -0.387345     amazing     0.416552\n",
       "16            mess    -0.375267       great     0.433983\n",
       "17           fails    -0.374599   wonderful     0.437432\n",
       "18           avoid    -0.374341     perfect     0.480207\n",
       "19            save    -0.372115   excellent     0.607129"
      ]
     },
     "execution_count": 34,
     "metadata": {},
     "output_type": "execute_result"
    }
   ],
   "source": [
    "vocab = best_estimator[\n",
    "    \"countvectorizer\"\n",
    "].get_feature_names()  # Get features (words in our case)\n",
    "\n",
    "weights = best_estimator[\n",
    "    \"logisticregression\"\n",
    "].coef_.flatten()  # Get feature coefficients\n",
    "\n",
    "inds = np.argsort(\n",
    "    best_estimator[\"logisticregression\"].coef_.flatten()\n",
    ")  # Sort the coefficients in descending order\n",
    "\n",
    "\n",
    "negative_words = [\n",
    "    vocab[index] for index in inds[:20]\n",
    "]  # pick the first 20 as most informative features for negative reviews\n",
    "\n",
    "positive_words = [\n",
    "    vocab[index] for index in inds[-20:]\n",
    "]  # pick the last 20 features as most informative features for positive reviews\n",
    "\n",
    "neg_words_weights = [(weights[index]) for index in inds[:20]]\n",
    "pos_words_weights = [(weights[index]) for index in inds[-20:]]\n",
    "\n",
    "df = pd.DataFrame(\n",
    "    {\n",
    "        \"Neg feats\": negative_words,\n",
    "        \"Neg weights\": neg_words_weights,\n",
    "        \"Pos feats\": positive_words,\n",
    "        \"Pos weights\": pos_words_weights,\n",
    "    }\n",
    ")\n",
    "df"
   ]
  },
  {
   "cell_type": "markdown",
   "metadata": {
    "cell_id": "00062-d9a0c998-179c-494a-8768-11b794f2f2f7",
    "deepnote_cell_type": "markdown",
    "output_cleared": false
   },
   "source": [
    "1. We see that the model has assigned positive weights to words such as _excellent, perfect, great, wonderful, amazing_, and negative weights to words such as _waste, awful, boring, terrible_, which makes sense. \n",
    "\n",
    "2. It is useful to access this information because it helps us interpret the model to some extent; it helps humans to understand which features are most relevant features for prediction and how do they impact the prediction.  \n",
    "\n",
    "- RBF SVMs $\\rightarrow$ It is hard to get feature importances for RBF SVM because it's an analogy-based algorithm based on distances between examples, where all features are given similar importance. \n",
    "- naive Bayes $\\rightarrow$ The conditional probabilities in naive Bayes can give us a sense of feature importances. You can interpret naive Bayes as a linear model by considering log probabilities. Accordingly, similar to linear models, `sklearn`'s `MultinomialNB` has `coef_` attribute, which can be use to interpret how important is each feature.    \n",
    "- Decision trees $\\rightarrow$ The decision tree algorithm is based on finding most important features using criteria such as information gain or Gini importance, in `sklearn`. Accordingly, `sklearn`'s `DecisionTreeClassifier` has a `feature_importances_` attribute to get this information. "
   ]
  },
  {
   "cell_type": "markdown",
   "metadata": {
    "cell_id": "00063-44b1bc67-3ec9-45fa-8937-cc1183730c5f",
    "deepnote_cell_type": "markdown",
    "output_cleared": false
   },
   "source": [
    "## Test score and final evaluation \n",
    "<hr>\n",
    "\n",
    "Let's examine the performance of our best model on the test set. "
   ]
  },
  {
   "cell_type": "code",
   "execution_count": 107,
   "metadata": {
    "cell_id": "00065-a2c89723-30b5-4c71-b25c-cbb995709802",
    "deepnote_cell_type": "code",
    "output_cleared": false,
    "source_hash": "5429da1d"
   },
   "outputs": [
    {
     "name": "stdout",
     "output_type": "stream",
     "text": [
      "Grid Search best model score: 0.865\n",
      "Train score on the full train set: 0.929\n",
      "Test score on the full test set: 0.882\n"
     ]
    }
   ],
   "source": [
    "best_model = random_search.best_estimator_\n",
    "best_model.fit(X_train, y_train)\n",
    "print(\"Grid Search best model score: %0.3f\" % (random_search.best_score_))\n",
    "print(\"Train score on the full train set: %0.3f\" % (best_model.score(X_train, y_train)))\n",
    "print(\"Test score on the full test set: %0.3f\" % (best_model.score(X_test, y_test)))"
   ]
  },
  {
   "cell_type": "markdown",
   "metadata": {
    "cell_id": "00066-b6d09e1f-9144-4361-9eca-33cb70d9014c",
    "deepnote_cell_type": "markdown",
    "output_cleared": false
   },
   "source": [
    "The test scores are comparable, in fact a bit better, than the cross-validation scores. The test dataset is quite large and as mentioned before, train and test sets contain disjoint set of movies, so no significant performance could be obtained by memorizing movie-unique terms associated with observed labels."
   ]
  },
  {
   "cell_type": "code",
   "execution_count": 108,
   "metadata": {
    "cell_id": "00068-f8d0b4d8-234e-447f-823c-ec58c07d8277",
    "deepnote_cell_type": "code",
    "output_cleared": false,
    "source_hash": "1d508e08"
   },
   "outputs": [
    {
     "name": "stdout",
     "output_type": "stream",
     "text": [
      "Most posistive review where the prob of being positive is 1.000:\n",
      "Universal Studios version of \"Flipper\" (1996) is a great heartwarming film for the entire family with good values and sentimentality. It is the story of Sandy Ricks, a teenager from Chicago who reluctantly spends his vacation with his Uncle Porter Ricks in the Bahamas. This ultimately changes the teenagers life and he grows up in the process. He learns to appreciate nature and to have a respect for the environment. I grew up in the 1960's and the NBC television show \"Flipper\" was my favorite childhood show. Elijah Wood is perfectly cast as a 1990's Sandy Ricks and gives an excellent performance. As much as I liked the NBC television show and MGM theatrical feature films with Luke Halpin as Sandy in the 1960's I liked this feature the best! I feel Elijah Wood is the best Sandy Ricks. With respect to Luke Halpin I feel Elijah Wood has more of a range of acting talent and emotes more as an actor which makes his performance excellent and more believable. I think Elijah Wood is the best young actor working today in films. Director Alan Shapiro also wrote the screenplay and has done an excellent job as both writer and director of this film. Paul Hogan gives a comical and likable performance as Sandy's Uncle Porter Ricks. Mr. Hogan's performance perfectly offsets Elijah's role as Sandy. I am a big fan of underwater films. This film was beautifully shot in the Bahamas like \"Thunderball\" (1965 UA) was. The director of photography was Bill Butler A.S.C. who lensed the film \"Jaws\" in 1975. Mr. Butler is a very talented cinematographer. The underwater director of photography was Pete Romano. He did a superb job with the underwater cinematography. I enjoyed the film score by Joel McNeely. This good film score featured Crosby, Stills and Nash among other talented artists. This motion picture was shot in Panavision like \"Thunderball\" in the aspect ratio of 2.35:1 If possible try to see this film in a scope version as originally framed and visioned by Alan Shapiro and Bill Butler. Another very nice thing is that Mr. Shapiro gave the \"original\" Sandy Ricks (Luke Halpin) a small part in this remake. He portrayed Bounty Fisherman #3 in this film. This was a very kind gesture on Mr. Shapiro's part! As you can tell I am a real true fan of this film. Sadly this beautiful film was met with harsh words by the majority of movie critics. I originally saw this movie on my birthday, May 31st of 1996 in a movie theater. It meant a lot to me. I have it on numerous video versions. The VHS versions are in \"pan and scan\". The laserdisc version is \"letterboxed\" 2.35:1! I even have a VCD in 2.35:1 from Hong Kong which is \"letterboxed\". But my most prized possession is an \"original\" 16mm theatrical feature print which I will treasure for the rest of my life! Thank you Mr. Shapiro, Elijah Wood, Paul Hogan and everyone involved for making this a memorable movie for me to enjoy!<br /><br />P.S. I must add that the quality of the Universal DVD is superb! It is the best DVD as far as quality I have ever seen. The color and resolution is spectacular. The soundtrack is great. I think Universal must have used the same transfer for the DVD that they did for the laserdisc version. The 35mm scope print is \"mint\" and Alan's film really has a wonderful look to it. A great tribute to a wonderful film! The DVD's resolution is even superior to the laserdisc quality! It's just spectacular! Thank you Universal Home Video for the great quality control and transfer. Many thank's for doing a superb job on this wonderful family film. Also many thank's to you Alan for all your extreme kindness to me!!! It's a real honor to know you!!! (Review Revised/Updated June 27, 2005)\n"
     ]
    }
   ],
   "source": [
    "most_pos_prob = np.max(best_model.predict_proba(X_test)[:, 1])\n",
    "most_pos_ind = np.argmax(best_model.predict_proba(X_test)[:, 1])\n",
    "print(\n",
    "    \"Most posistive review where the prob of being positive is %0.3f:\\n%s\"\n",
    "    % (most_pos_prob, X_test.iloc[most_pos_ind])\n",
    ")"
   ]
  },
  {
   "cell_type": "code",
   "execution_count": 109,
   "metadata": {
    "cell_id": "00069-08c9a939-2d48-41bf-a3c9-218bcd9adcd4",
    "deepnote_cell_type": "code",
    "output_cleared": false,
    "source_hash": "24e3b43"
   },
   "outputs": [
    {
     "name": "stdout",
     "output_type": "stream",
     "text": [
      "Most negative review where the prob of being positive is 0.000:\n",
      "Plankton, or Creatures from the Abyss as I'm positive it's more commonly known as & filmed under as the title Creatures from the Abyss appears over a moving image & in the same font type as the rest of the credits, starts with five 20 something kids, Mike (Clay Rogers) his girlfriend Margaret (Sharon Twomey), sisters Julie (Ann Wolf) & Dorothy (Loren DePalm) & an annoying idiot named Bobby (Michael Bon) whom decide to all fit into a small rubber boat & head out to sea, don't ask why as I don't know. Oh & the complete idiot Bobby left the petrol behind & never thought to tell anyone so it comes as no great surprise that they end up stranded out at sea without any petrol for the motor & to make matters worse they become trapped in a thunder storm & discover a dead body floating in the water. Shortly after their luck seems to change when they come across a yacht & potential safety, in a flash everyone boards the yacht & begin to explore. First of all they find a scientific lab with various fish specimens & computer equipment, then down below they find fully furnished & luxurious cabins. They find a chemist (Deran Sarafian) who appears mad & can't talk. They eat fish from the fridge which makes Dorothy puke up green vomit, beetles & slugs. They learn that these fish are living fossil's 1000's of years old & have been contaminated by toxic waste dumped in the sea & that they fly, mutate, bite & are generally unpleasant to be around. I really can't be bothered to go on with this plot outline so I won't, here's what I think...<br /><br />This Italian production was produced & directed by Massimiliano Cerchi under the pseudonym Al Passeri (I'd hide under a different name if I made a film this bad too) & I think Plankton is quite simply one of the worst films ever, there are so many things wrong with this film it's difficult to know where to start. First the script by Richard Baumann is total crap, it makes no sense whatsoever & is so slow & dull it was torture for me to sit through. Why would five people just simply set sail for the middle of the ocean on a rubber dinghy barely big enough to fit them all in? What were they planning on doing exactly? Why do we often get point-of-view shots from these fish creatures but they seem to be totally invisible to the characters as they are never shown on screen even though they are right next to a character, & how do these fish get around the boat as there is no water for them to swim in? People's actions & reactions to things are all wrong, they constantly split up, they make bizarre decisions that simply don't make any sense in the situation they find themselves in & some of the dialogue is as awful as anything I've heard. I could go on all day about all the plot holes & ridiculous goings on but I'll run out of space if I do. The fish creatures themselves look awful, a mixture of rubbish rubber puppets & some really bad stop motion animation at the end, the scenes where they interact with the human cast also look terrible with some bad super imposition. I have heard a lot of comments saying that Plankton is gory, don't make me laugh! Forget it there is virtually no blood or gore in Plankton whatsoever, there are a couple of slimy scenes when Bobby transforms into a fish monster while having sex with Julie but it's pretty brief & he doesn't kill her, he just sort of drips slime on her, grows a couple of tentacles & a fish head comes out of his mouth. Later on Julie's vagina starts to drip some dark slime but that's it, we never get to actually see what happens to her or what the slime is. Dorothy has a fish creature come out of her back, off screen, & control her but again we never get to see what happens to her while Margaret commits suicide, a very brief shot of a plastic harpoon stuck to her forehead. Easily the grossest scene is when Dorothy pukes up that green stuff with what looks like beetles & slugs in it. That's it, only one person actually dies on screen & for the most part Plankton is quite tame & as exciting as watching paint dry & I nearly fell asleep it's so boring. I can't see how anybody can like this total crap, I just can't. The acting is awful, the dubbing is awful, the characters are awful & I hated all of them. Tecnically Plankton is predictably crap as well, with an estimated budget of only $250,000 all I can say is where did the money go? The sets are monotonous & dull with one lab & a few cabins, the special effect's are bottom of the barrel stuff including the most fake looking exploding boat ever, the cinematography is bland, the music sucks there is zero atmosphere or tension & as a whole Plankton, like it's name sake, is as low in the food chain as it could possibly be. I hate Plankton, it's awful in every single aspect of it's overlong 86 minute duration. Do yourself a favour & avoid this one at all costs unless your either a masochist or insomniac.\n"
     ]
    }
   ],
   "source": [
    "most_neg_prob = np.min(best_model.predict_proba(X_test)[:, 1])\n",
    "most_neg_ind = np.argmin(best_model.predict_proba(X_test)[:, 1])\n",
    "print(\n",
    "    \"Most negative review where the prob of being positive is %0.3f:\\n%s\"\n",
    "    % (most_neg_prob, X_test.iloc[most_neg_ind])\n",
    ")"
   ]
  },
  {
   "cell_type": "code",
   "execution_count": 110,
   "metadata": {},
   "outputs": [],
   "source": [
    "cm = confusion_matrix(y_test, best_model.predict(X_test))"
   ]
  },
  {
   "cell_type": "code",
   "execution_count": 111,
   "metadata": {},
   "outputs": [
    {
     "data": {
      "text/plain": [
       "<sklearn.metrics._plot.confusion_matrix.ConfusionMatrixDisplay at 0x7fa3f4076c50>"
      ]
     },
     "execution_count": 111,
     "metadata": {},
     "output_type": "execute_result"
    },
    {
     "data": {
      "image/png": "[encoded data removed]",
      "text/plain": [
       "<Figure size 432x288 with 2 Axes>"
      ]
     },
     "metadata": {
      "needs_background": "light"
     },
     "output_type": "display_data"
    }
   ],
   "source": [
    "plot_confusion_matrix(\n",
    "    best_model,\n",
    "    X_test,\n",
    "    y_test,\n",
    "    display_labels=[\"Negative\", \"Positive\"],\n",
    "    values_format=\"d\",\n",
    "    cmap=plt.cm.Blues,\n",
    ")"
   ]
  },
  {
   "cell_type": "code",
   "execution_count": 112,
   "metadata": {},
   "outputs": [
    {
     "data": {
      "text/plain": [
       "[<matplotlib.lines.Line2D at 0x7fa3f1bf9590>]"
      ]
     },
     "execution_count": 112,
     "metadata": {},
     "output_type": "execute_result"
    },
    {
     "data": {
      "image/png": "[encoded data removed]",
      "text/plain": [
       "<Figure size 432x288 with 1 Axes>"
      ]
     },
     "metadata": {
      "needs_background": "light"
     },
     "output_type": "display_data"
    }
   ],
   "source": [
    "plot_precision_recall_curve(best_model, X_test, y_test, name=\"Logistic Regression\")\n",
    "plt.plot(\n",
    "    recall_score(y_test, best_model.predict(X_test)),\n",
    "    precision_score(y_test, best_model.predict(X_test)),\n",
    "    \"or\",\n",
    "    markersize=15,\n",
    ")"
   ]
  },
  {
   "cell_type": "code",
   "execution_count": 113,
   "metadata": {},
   "outputs": [
    {
     "data": {
      "image/png": "[encoded data removed]",
      "text/plain": [
       "<Figure size 432x288 with 1 Axes>"
      ]
     },
     "metadata": {
      "needs_background": "light"
     },
     "output_type": "display_data"
    }
   ],
   "source": [
    "rc = plot_roc_curve(best_model, X_test, y_test, name='Logistic Regression');\n",
    "plt.plot(cm[0,1]/(cm[0].sum()), cm[1,1]/(cm[1].sum()), 'or', markersize=15);"
   ]
  },
  {
   "cell_type": "markdown",
   "metadata": {},
   "source": [
    "- The goodness of PR curve is 0.94 which means the threshold of 0.5 is good enough to separate positive and negatives reviews.\n",
    "- The goodness of ROC curve is 0.95 which means our prediction is way better than a random guesser. Also, the result is consistent than AP.\n",
    "- Since both positive and negative classes are important to us and our dataset is balanced, the confusion matrix shows a good spread of true positives and false negatives which is consistent to the test accuracy we get."
   ]
  },
  {
   "cell_type": "markdown",
   "metadata": {},
   "source": [
    "## Some insights and further improvements"
   ]
  },
  {
   "cell_type": "markdown",
   "metadata": {},
   "source": [
    "### Examine the misclassified examples from test set"
   ]
  },
  {
   "cell_type": "code",
   "execution_count": 114,
   "metadata": {},
   "outputs": [
    {
     "data": {
      "text/plain": [
       "4        Brass pictures (movies is not a fitting word f...\n",
       "16       At the bottom end of the apocalypse movie scal...\n",
       "17       Earth has been destroyed in a nuclear holocaus...\n",
       "44       This tale of the upper-classes getting their c...\n",
       "48       While the premise of the film sounded unique a...\n",
       "                               ...                        \n",
       "24936    I've noticed that a lot of people are taking O...\n",
       "24947    People have often been uncomfortable with \"The...\n",
       "24958    The Merchant of Venice 8/10<br /><br />(This r...\n",
       "24972    When i first saw the movie being advertised i ...\n",
       "24977    This is not a movie that I would typically wat...\n",
       "Name: review, Length: 2949, dtype: object"
      ]
     },
     "execution_count": 114,
     "metadata": {},
     "output_type": "execute_result"
    }
   ],
   "source": [
    "preds = best_model.predict(X_test)\n",
    "misclassified = np.where(y_test != preds)[0]\n",
    "X_test[misclassified]"
   ]
  },
  {
   "cell_type": "markdown",
   "metadata": {},
   "source": [
    "**Notes:** \n",
    "- By inspecting the dataset, I found some of them does not express any attitudes towards the movie, instead, they probably talk about some facts or thoughts from the movie which is neutral. Therefore, the probability of predicting those reviews to positive might be close to the threshold and make them hard to differentiate between classes. \n",
    "- There are also some garbage reviews which should be excluded from dataset but we probably need human labor to do that.\n",
    "- The best model seems to work fairly well when there are clear words indicating whether the review is positive or negative, as the features we are using are word features. However the models fails for more complex examples, where understanding the context and overall text is essential to correctly classify reviews. These example demonstrates the limitations of bag of word models. \n",
    "- We need to incorporate deeper linguistic knowledge to correctly classify such cases such as seq-to-seq models, LSTM and BERT."
   ]
  }
 ],
 "metadata": {
  "celltoolbar": "Create Assignment",
  "deepnote_execution_queue": [],
  "deepnote_notebook_id": "b435fcd9-24e7-4430-b15a-40b154c30208",
  "kernelspec": {
   "display_name": "Python [conda env:571]",
   "language": "python",
   "name": "conda-env-571-py"
  },
  "language_info": {
   "codemirror_mode": {
    "name": "ipython",
    "version": 3
   },
   "file_extension": ".py",
   "mimetype": "text/x-python",
   "name": "python",
   "nbconvert_exporter": "python",
   "pygments_lexer": "ipython3",
   "version": "3.7.8"
  }
 },
 "nbformat": 4,
 "nbformat_minor": 4
}
